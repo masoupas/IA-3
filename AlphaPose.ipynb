{
  "nbformat": 4,
  "nbformat_minor": 0,
  "metadata": {
    "colab": {
      "name": "Copia de Copy of AlphaPose.ipynb",
      "provenance": [],
      "collapsed_sections": [],
      "include_colab_link": true
    },
    "kernelspec": {
      "name": "python3",
      "display_name": "Python 3"
    },
    "accelerator": "GPU"
  },
  "cells": [
    {
      "cell_type": "markdown",
      "metadata": {
        "id": "view-in-github",
        "colab_type": "text"
      },
      "source": [
        "<a href=\"https://colab.research.google.com/github/masoupas/IA-3/blob/main/AlphaPose.ipynb\" target=\"_parent\"><img src=\"https://colab.research.google.com/assets/colab-badge.svg\" alt=\"Open In Colab\"/></a>"
      ]
    },
    {
      "cell_type": "markdown",
      "metadata": {
        "id": "ZMUdgWmTFWEs"
      },
      "source": [
        "# Pose Detection with AlphaPhose\n",
        "\n",
        "This notebook uses an open source project [MVIG-SJTU/AlphaPose](https://github.com/MVIG-SJTU/AlphaPose) to detect/track multi person poses on a given video imported from Google Drive.\n",
        "\n",
        "\n",
        "## Install AlphaPose"
      ]
    },
    {
      "cell_type": "code",
      "metadata": {
        "id": "F6mwV7p4r6NC",
        "colab": {
          "base_uri": "https://localhost:8080/",
          "height": 1000
        },
        "outputId": "ee27e2e0-c3e6-46a5-a6ff-81ae733427f3"
      },
      "source": [
        "! pip install pyyaml==5.2\n",
        "! pip install scipy==1.1.0\n",
        "! pip install torch==1.2.0 torchvision==0.4.0\n",
        "! pip install pillow==6.2.2"
      ],
      "execution_count": null,
      "outputs": [
        {
          "output_type": "stream",
          "text": [
            "Collecting pyyaml==5.2\n",
            "\u001b[?25l  Downloading https://files.pythonhosted.org/packages/8d/c9/e5be955a117a1ac548cdd31e37e8fd7b02ce987f9655f5c7563c656d5dcb/PyYAML-5.2.tar.gz (265kB)\n",
            "\r\u001b[K     |█▎                              | 10kB 22.8MB/s eta 0:00:01\r\u001b[K     |██▌                             | 20kB 16.1MB/s eta 0:00:01\r\u001b[K     |███▊                            | 30kB 13.7MB/s eta 0:00:01\r\u001b[K     |█████                           | 40kB 12.3MB/s eta 0:00:01\r\u001b[K     |██████▏                         | 51kB 7.3MB/s eta 0:00:01\r\u001b[K     |███████▍                        | 61kB 7.0MB/s eta 0:00:01\r\u001b[K     |████████▋                       | 71kB 8.0MB/s eta 0:00:01\r\u001b[K     |█████████▉                      | 81kB 8.4MB/s eta 0:00:01\r\u001b[K     |███████████                     | 92kB 8.6MB/s eta 0:00:01\r\u001b[K     |████████████▎                   | 102kB 9.2MB/s eta 0:00:01\r\u001b[K     |█████████████▋                  | 112kB 9.2MB/s eta 0:00:01\r\u001b[K     |██████████████▉                 | 122kB 9.2MB/s eta 0:00:01\r\u001b[K     |████████████████                | 133kB 9.2MB/s eta 0:00:01\r\u001b[K     |█████████████████▎              | 143kB 9.2MB/s eta 0:00:01\r\u001b[K     |██████████████████▌             | 153kB 9.2MB/s eta 0:00:01\r\u001b[K     |███████████████████▊            | 163kB 9.2MB/s eta 0:00:01\r\u001b[K     |█████████████████████           | 174kB 9.2MB/s eta 0:00:01\r\u001b[K     |██████████████████████▏         | 184kB 9.2MB/s eta 0:00:01\r\u001b[K     |███████████████████████▍        | 194kB 9.2MB/s eta 0:00:01\r\u001b[K     |████████████████████████▋       | 204kB 9.2MB/s eta 0:00:01\r\u001b[K     |██████████████████████████      | 215kB 9.2MB/s eta 0:00:01\r\u001b[K     |███████████████████████████▏    | 225kB 9.2MB/s eta 0:00:01\r\u001b[K     |████████████████████████████▍   | 235kB 9.2MB/s eta 0:00:01\r\u001b[K     |█████████████████████████████▋  | 245kB 9.2MB/s eta 0:00:01\r\u001b[K     |██████████████████████████████▉ | 256kB 9.2MB/s eta 0:00:01\r\u001b[K     |████████████████████████████████| 266kB 9.2MB/s \n",
            "\u001b[?25hBuilding wheels for collected packages: pyyaml\n",
            "  Building wheel for pyyaml (setup.py) ... \u001b[?25l\u001b[?25hdone\n",
            "  Created wheel for pyyaml: filename=PyYAML-5.2-cp37-cp37m-linux_x86_64.whl size=44209 sha256=cfbd5cbfdb71dd0595145d66f3c2298855e74d1b2e8026e418892b0851f1e41e\n",
            "  Stored in directory: /root/.cache/pip/wheels/54/b7/c7/2ada654ee54483c9329871665aaf4a6056c3ce36f29cf66e67\n",
            "Successfully built pyyaml\n",
            "Installing collected packages: pyyaml\n",
            "  Found existing installation: PyYAML 3.13\n",
            "    Uninstalling PyYAML-3.13:\n",
            "      Successfully uninstalled PyYAML-3.13\n",
            "Successfully installed pyyaml-5.2\n",
            "Collecting scipy==1.1.0\n",
            "\u001b[?25l  Downloading https://files.pythonhosted.org/packages/40/de/0c22c6754370ba6b1fa8e53bd6e514d4a41a181125d405a501c215cbdbd6/scipy-1.1.0-cp37-cp37m-manylinux1_x86_64.whl (31.2MB)\n",
            "\u001b[K     |████████████████████████████████| 31.2MB 101kB/s \n",
            "\u001b[?25hRequirement already satisfied: numpy>=1.8.2 in /usr/local/lib/python3.7/dist-packages (from scipy==1.1.0) (1.19.5)\n",
            "\u001b[31mERROR: pymc3 3.11.2 has requirement scipy>=1.2.0, but you'll have scipy 1.1.0 which is incompatible.\u001b[0m\n",
            "\u001b[31mERROR: plotnine 0.6.0 has requirement scipy>=1.2.0, but you'll have scipy 1.1.0 which is incompatible.\u001b[0m\n",
            "\u001b[31mERROR: albumentations 0.1.12 has requirement imgaug<0.2.7,>=0.2.5, but you'll have imgaug 0.2.9 which is incompatible.\u001b[0m\n",
            "Installing collected packages: scipy\n",
            "  Found existing installation: scipy 1.4.1\n",
            "    Uninstalling scipy-1.4.1:\n",
            "      Successfully uninstalled scipy-1.4.1\n",
            "Successfully installed scipy-1.1.0\n",
            "Collecting torch==1.2.0\n",
            "\u001b[?25l  Downloading https://files.pythonhosted.org/packages/05/65/5248be50c55ab7429dd5c11f5e2f9f5865606b80e854ca63139ad1a584f2/torch-1.2.0-cp37-cp37m-manylinux1_x86_64.whl (748.9MB)\n",
            "\u001b[K     |████████████████████████████████| 748.9MB 14kB/s \n",
            "\u001b[?25hCollecting torchvision==0.4.0\n",
            "\u001b[?25l  Downloading https://files.pythonhosted.org/packages/51/83/2d77d040e34bd8f70dcb4770f7eb7d0aa71e07738abf6831be863ade00db/torchvision-0.4.0-cp37-cp37m-manylinux1_x86_64.whl (8.8MB)\n",
            "\u001b[K     |████████████████████████████████| 8.8MB 6.7MB/s \n",
            "\u001b[?25hRequirement already satisfied: numpy in /usr/local/lib/python3.7/dist-packages (from torch==1.2.0) (1.19.5)\n",
            "Requirement already satisfied: pillow>=4.1.1 in /usr/local/lib/python3.7/dist-packages (from torchvision==0.4.0) (7.1.2)\n",
            "Requirement already satisfied: six in /usr/local/lib/python3.7/dist-packages (from torchvision==0.4.0) (1.15.0)\n",
            "\u001b[31mERROR: torchtext 0.9.1 has requirement torch==1.8.1, but you'll have torch 1.2.0 which is incompatible.\u001b[0m\n",
            "Installing collected packages: torch, torchvision\n",
            "  Found existing installation: torch 1.8.1+cu101\n",
            "    Uninstalling torch-1.8.1+cu101:\n",
            "      Successfully uninstalled torch-1.8.1+cu101\n",
            "  Found existing installation: torchvision 0.9.1+cu101\n",
            "    Uninstalling torchvision-0.9.1+cu101:\n",
            "      Successfully uninstalled torchvision-0.9.1+cu101\n",
            "Successfully installed torch-1.2.0 torchvision-0.4.0\n",
            "Collecting pillow==6.2.2\n",
            "\u001b[?25l  Downloading https://files.pythonhosted.org/packages/c3/3f/03375124676ab49ca6e6917c0f1f663afb8354d5d24e12f4fe4587a39ae2/Pillow-6.2.2-cp37-cp37m-manylinux1_x86_64.whl (2.1MB)\n",
            "\u001b[K     |████████████████████████████████| 2.1MB 7.5MB/s \n",
            "\u001b[31mERROR: bokeh 2.3.2 has requirement pillow>=7.1.0, but you'll have pillow 6.2.2 which is incompatible.\u001b[0m\n",
            "\u001b[31mERROR: albumentations 0.1.12 has requirement imgaug<0.2.7,>=0.2.5, but you'll have imgaug 0.2.9 which is incompatible.\u001b[0m\n",
            "\u001b[?25hInstalling collected packages: pillow\n",
            "  Found existing installation: Pillow 7.1.2\n",
            "    Uninstalling Pillow-7.1.2:\n",
            "      Successfully uninstalled Pillow-7.1.2\n",
            "Successfully installed pillow-6.2.2\n"
          ],
          "name": "stdout"
        },
        {
          "output_type": "display_data",
          "data": {
            "application/vnd.colab-display-data+json": {
              "pip_warning": {
                "packages": [
                  "PIL"
                ]
              }
            }
          },
          "metadata": {
            "tags": []
          }
        }
      ]
    },
    {
      "cell_type": "code",
      "metadata": {
        "id": "JQVH0gE47FE9",
        "colab": {
          "base_uri": "https://localhost:8080/"
        },
        "outputId": "f620c0da-fdd1-4778-8343-7c3719a36f21"
      },
      "source": [
        "import os\n",
        "from os.path import exists, join, basename, splitext\n",
        "\n",
        "git_repo_url = 'https://github.com/MVIG-SJTU/AlphaPose.git'\n",
        "project_name = splitext(basename(git_repo_url))[0]\n",
        "if not exists(project_name):\n",
        "  # clone and install dependencies\n",
        "  !git clone -q -b pytorch --depth 1 $git_repo_url\n",
        "  !cd $project_name && pip install -q -r requirements.txt\n",
        "  !pip install -q youtube-dl visdom\n",
        "  \n",
        "import sys\n",
        "sys.path.append(project_name)\n",
        "import time\n",
        "import matplotlib\n",
        "import matplotlib.pylab as plt\n",
        "plt.rcParams[\"axes.grid\"] = False\n",
        "\n",
        "from IPython.display import YouTubeVideo"
      ],
      "execution_count": null,
      "outputs": [
        {
          "output_type": "stream",
          "text": [
            "\u001b[31mERROR: Could not find a version that satisfies the requirement torch==0.4.0 (from -r requirements.txt (line 1)) (from versions: 0.1.2, 0.1.2.post1, 0.1.2.post2, 0.4.1, 0.4.1.post2, 1.0.0, 1.0.1, 1.0.1.post2, 1.1.0, 1.2.0, 1.3.0, 1.3.1, 1.4.0, 1.5.0, 1.5.1, 1.6.0, 1.7.0, 1.7.1, 1.8.0, 1.8.1)\u001b[0m\n",
            "\u001b[31mERROR: No matching distribution found for torch==0.4.0 (from -r requirements.txt (line 1))\u001b[0m\n",
            "\u001b[K     |████████████████████████████████| 1.9MB 7.5MB/s \n",
            "\u001b[K     |████████████████████████████████| 686kB 44.4MB/s \n",
            "\u001b[K     |████████████████████████████████| 71kB 11.0MB/s \n",
            "\u001b[?25h  Building wheel for visdom (setup.py) ... \u001b[?25l\u001b[?25hdone\n",
            "  Building wheel for torchfile (setup.py) ... \u001b[?25l\u001b[?25hdone\n"
          ],
          "name": "stdout"
        }
      ]
    },
    {
      "cell_type": "markdown",
      "metadata": {
        "id": "ibzztWRQF3-f"
      },
      "source": [
        "## Download pretrained models"
      ]
    },
    {
      "cell_type": "code",
      "metadata": {
        "id": "FbmT4eNY8ST6",
        "colab": {
          "base_uri": "https://localhost:8080/"
        },
        "outputId": "6dfbeb8e-4986-45a4-dd37-eaf40a7fd2f6"
      },
      "source": [
        "def download_from_google_drive(file_id, file_name):\n",
        "  # download a file from the Google Drive link\n",
        "  !rm -f ./cookie\n",
        "  !curl -c ./cookie -s -L \"https://drive.google.com/uc?export=download&id=$file_id\" > /dev/null\n",
        "  confirm_text = !awk '/download/ {print $NF}' ./cookie\n",
        "  confirm_text = confirm_text[0]\n",
        "  !curl -Lb ./cookie \"https://drive.google.com/uc?export=download&confirm=$confirm_text&id=$file_id\" -o $file_name\n",
        "  \n",
        "\n",
        "  \n",
        "pretrained_model_path = join(project_name, 'models/sppe/duc_se.pth')\n",
        "if not exists(pretrained_model_path):\n",
        "  # download the pretrained model\n",
        "  download_from_google_drive('1OPORTWB2cwd5YTVBX-NE8fsauZJWsrtW', pretrained_model_path)\n",
        "  \n",
        "yolo_pretrained_model_path = join(project_name, 'models/yolo/yolov3-spp.weights')\n",
        "if not exists(yolo_pretrained_model_path):\n",
        "  # download the YOLO weights\n",
        "  download_from_google_drive('1D47msNOOiJKvPOXlnpyzdKA3k6E97NTC', yolo_pretrained_model_path)"
      ],
      "execution_count": null,
      "outputs": [
        {
          "output_type": "stream",
          "text": [
            "  % Total    % Received % Xferd  Average Speed   Time    Time     Time  Current\n",
            "                                 Dload  Upload   Total   Spent    Left  Speed\n",
            "100   408    0   408    0     0   1426      0 --:--:-- --:--:-- --:--:--  1426\n",
            "  0     0    0     0    0     0      0      0 --:--:-- --:--:-- --:--:--     0\n",
            "  0     0    0     0    0     0      0      0 --:--:-- --:--:-- --:--:--     0\n",
            "100  227M    0  227M    0     0   118M      0 --:--:--  0:00:01 --:--:--  169M\n",
            "  % Total    % Received % Xferd  Average Speed   Time    Time     Time  Current\n",
            "                                 Dload  Upload   Total   Spent    Left  Speed\n",
            "100   408    0   408    0     0   1387      0 --:--:-- --:--:-- --:--:--  1387\n",
            "  0     0    0     0    0     0      0      0 --:--:-- --:--:-- --:--:--     0\n",
            "  0     0    0     0    0     0      0      0 --:--:-- --:--:-- --:--:--     0\n",
            "100  240M    0  240M    0     0   111M      0 --:--:--  0:00:02 --:--:--  190M\n"
          ],
          "name": "stdout"
        }
      ]
    },
    {
      "cell_type": "markdown",
      "metadata": {
        "id": "fMJI7RgmF_xO"
      },
      "source": [
        "## Detect poses on a video\n",
        "\n",
        "Instructions:\n",
        "- Name the file you want to use source.mp4\n",
        "- Place source.mp4 file in a map on your Google Drive, called 'Videos/in/'"
      ]
    },
    {
      "cell_type": "markdown",
      "metadata": {
        "id": "MJblYRLkGTU2"
      },
      "source": [
        "The code below cuts the source video to 10 seconds and performs the pose detection. The resulting video can then be downloaded from the left panel."
      ]
    },
    {
      "cell_type": "code",
      "metadata": {
        "id": "jbeIxfOQsQHa",
        "colab": {
          "base_uri": "https://localhost:8080/"
        },
        "outputId": "6c422756-c002-4245-b6a1-61249950fbaf"
      },
      "source": [
        "from google.colab import drive\n",
        "drive.mount('/content/drive')"
      ],
      "execution_count": null,
      "outputs": [
        {
          "output_type": "stream",
          "text": [
            "Drive already mounted at /content/drive; to attempt to forcibly remount, call drive.mount(\"/content/drive\", force_remount=True).\n"
          ],
          "name": "stdout"
        }
      ]
    },
    {
      "cell_type": "code",
      "metadata": {
        "id": "szrxdrgjvpeF",
        "colab": {
          "base_uri": "https://localhost:8080/"
        },
        "outputId": "d1f8ecab-7c7c-451f-d81f-8a4ddd7510f1"
      },
      "source": [
        "# run AlpaPose on video from Google Drive\n",
        "# clear previous files\n",
        "!rm -rf AlphaPose_video.avi video.mp4\n",
        "# cut the first 5 seconds and copy video to AlphaPose directory\n",
        "!ffmpeg -y -loglevel info -i \"/content/drive/MyDrive/Colab Notebooks/PRACTICAS IDAL/20210428_135306.mp4\"  \"AlphaPose/video.mp4\"\n",
        "!cd $project_name && python3 video_demo.py --sp --video video.mp4 --outdir .. --save_video\n",
        "# convert the result into MP4\n",
        "!ffmpeg -y -loglevel info -i AlphaPose_video.avi AlphaPose_video.mp4\n",
        "# copy result to Google Drive - disabled, too slow, advice manual download from left panel\n",
        "#from shutil import copyfile\n",
        "#copyfile(AlphaPose_video.mp4, \"drive/My Drive/Videos/out/AlphaPose_video.mp4\")"
      ],
      "execution_count": null,
      "outputs": [
        {
          "output_type": "stream",
          "text": [
            "ffmpeg version 3.4.8-0ubuntu0.2 Copyright (c) 2000-2020 the FFmpeg developers\n",
            "  built with gcc 7 (Ubuntu 7.5.0-3ubuntu1~18.04)\n",
            "  configuration: --prefix=/usr --extra-version=0ubuntu0.2 --toolchain=hardened --libdir=/usr/lib/x86_64-linux-gnu --incdir=/usr/include/x86_64-linux-gnu --enable-gpl --disable-stripping --enable-avresample --enable-avisynth --enable-gnutls --enable-ladspa --enable-libass --enable-libbluray --enable-libbs2b --enable-libcaca --enable-libcdio --enable-libflite --enable-libfontconfig --enable-libfreetype --enable-libfribidi --enable-libgme --enable-libgsm --enable-libmp3lame --enable-libmysofa --enable-libopenjpeg --enable-libopenmpt --enable-libopus --enable-libpulse --enable-librubberband --enable-librsvg --enable-libshine --enable-libsnappy --enable-libsoxr --enable-libspeex --enable-libssh --enable-libtheora --enable-libtwolame --enable-libvorbis --enable-libvpx --enable-libwavpack --enable-libwebp --enable-libx265 --enable-libxml2 --enable-libxvid --enable-libzmq --enable-libzvbi --enable-omx --enable-openal --enable-opengl --enable-sdl2 --enable-libdc1394 --enable-libdrm --enable-libiec61883 --enable-chromaprint --enable-frei0r --enable-libopencv --enable-libx264 --enable-shared\n",
            "  libavutil      55. 78.100 / 55. 78.100\n",
            "  libavcodec     57.107.100 / 57.107.100\n",
            "  libavformat    57. 83.100 / 57. 83.100\n",
            "  libavdevice    57. 10.100 / 57. 10.100\n",
            "  libavfilter     6.107.100 /  6.107.100\n",
            "  libavresample   3.  7.  0 /  3.  7.  0\n",
            "  libswscale      4.  8.100 /  4.  8.100\n",
            "  libswresample   2.  9.100 /  2.  9.100\n",
            "  libpostproc    54.  7.100 / 54.  7.100\n",
            "Input #0, mov,mp4,m4a,3gp,3g2,mj2, from '/content/drive/MyDrive/Colab Notebooks/PRACTICAS IDAL/20210428_135306.mp4':\n",
            "  Metadata:\n",
            "    major_brand     : mp42\n",
            "    minor_version   : 0\n",
            "    compatible_brands: isommp42\n",
            "    creation_time   : 2021-04-28T11:53:14.000000Z\n",
            "    com.android.version: 11\n",
            "    com.android.capture.fps: 30.000000\n",
            "  Duration: 00:00:07.10, start: 0.000000, bitrate: 14182 kb/s\n",
            "    Stream #0:0(eng): Video: h264 (High) (avc1 / 0x31637661), yuv420p(tv, bt709), 1920x1080, 13921 kb/s, SAR 1:1 DAR 16:9, 30 fps, 30 tbr, 90k tbn, 180k tbc (default)\n",
            "    Metadata:\n",
            "      rotate          : 90\n",
            "      creation_time   : 2021-04-28T11:53:14.000000Z\n",
            "      handler_name    : VideoHandle\n",
            "    Side data:\n",
            "      displaymatrix: rotation of -90.00 degrees\n",
            "    Stream #0:1(eng): Audio: aac (LC) (mp4a / 0x6134706D), 48000 Hz, stereo, fltp, 256 kb/s (default)\n",
            "    Metadata:\n",
            "      creation_time   : 2021-04-28T11:53:14.000000Z\n",
            "      handler_name    : SoundHandle\n",
            "Stream mapping:\n",
            "  Stream #0:0 -> #0:0 (h264 (native) -> h264 (libx264))\n",
            "  Stream #0:1 -> #0:1 (aac (native) -> aac (native))\n",
            "Press [q] to stop, [?] for help\n",
            "\u001b[1;36m[libx264 @ 0x55e560250800] \u001b[0musing SAR=1/1\n",
            "\u001b[1;36m[libx264 @ 0x55e560250800] \u001b[0musing cpu capabilities: MMX2 SSE2Fast SSSE3 SSE4.2 AVX FMA3 BMI2 AVX2\n",
            "\u001b[1;36m[libx264 @ 0x55e560250800] \u001b[0mprofile High, level 4.0\n",
            "\u001b[1;36m[libx264 @ 0x55e560250800] \u001b[0m264 - core 152 r2854 e9a5903 - H.264/MPEG-4 AVC codec - Copyleft 2003-2017 - http://www.videolan.org/x264.html - options: cabac=1 ref=3 deblock=1:0:0 analyse=0x3:0x113 me=hex subme=7 psy=1 psy_rd=1.00:0.00 mixed_ref=1 me_range=16 chroma_me=1 trellis=1 8x8dct=1 cqm=0 deadzone=21,11 fast_pskip=1 chroma_qp_offset=-2 threads=3 lookahead_threads=1 sliced_threads=0 nr=0 decimate=1 interlaced=0 bluray_compat=0 constrained_intra=0 bframes=3 b_pyramid=2 b_adapt=1 b_bias=0 direct=1 weightb=1 open_gop=0 weightp=2 keyint=250 keyint_min=25 scenecut=40 intra_refresh=0 rc_lookahead=40 rc=crf mbtree=1 crf=23.0 qcomp=0.60 qpmin=0 qpmax=69 qpstep=4 ip_ratio=1.40 aq=1:1.00\n",
            "Output #0, mp4, to 'AlphaPose/video.mp4':\n",
            "  Metadata:\n",
            "    major_brand     : mp42\n",
            "    minor_version   : 0\n",
            "    compatible_brands: isommp42\n",
            "    com.android.capture.fps: 30.000000\n",
            "    com.android.version: 11\n",
            "    encoder         : Lavf57.83.100\n",
            "    Stream #0:0(eng): Video: h264 (libx264) (avc1 / 0x31637661), yuv420p, 1080x1920 [SAR 1:1 DAR 9:16], q=-1--1, 30 fps, 15360 tbn, 30 tbc (default)\n",
            "    Metadata:\n",
            "      encoder         : Lavc57.107.100 libx264\n",
            "      creation_time   : 2021-04-28T11:53:14.000000Z\n",
            "      handler_name    : VideoHandle\n",
            "    Side data:\n",
            "      cpb: bitrate max/min/avg: 0/0/0 buffer size: 0 vbv_delay: -1\n",
            "      displaymatrix: rotation of -0.00 degrees\n",
            "    Stream #0:1(eng): Audio: aac (LC) (mp4a / 0x6134706D), 48000 Hz, stereo, fltp, 128 kb/s (default)\n",
            "    Metadata:\n",
            "      creation_time   : 2021-04-28T11:53:14.000000Z\n",
            "      handler_name    : SoundHandle\n",
            "      encoder         : Lavc57.107.100 aac\n",
            "frame=  213 fps=6.3 q=-1.0 Lsize=    4190kB time=00:00:07.08 bitrate=4845.2kbits/s speed=0.21x    \n",
            "video:4069kB audio:113kB subtitle:0kB other streams:0kB global headers:0kB muxing overhead: 0.209880%\n",
            "\u001b[1;36m[libx264 @ 0x55e560250800] \u001b[0mframe I:2     Avg QP:20.78  size: 45924\n",
            "\u001b[1;36m[libx264 @ 0x55e560250800] \u001b[0mframe P:65    Avg QP:22.58  size: 25271\n",
            "\u001b[1;36m[libx264 @ 0x55e560250800] \u001b[0mframe B:146   Avg QP:23.78  size: 16653\n",
            "\u001b[1;36m[libx264 @ 0x55e560250800] \u001b[0mconsecutive B-frames:  1.9%  8.5% 35.2% 54.5%\n",
            "\u001b[1;36m[libx264 @ 0x55e560250800] \u001b[0mmb I  I16..4: 24.9% 67.2%  7.9%\n",
            "\u001b[1;36m[libx264 @ 0x55e560250800] \u001b[0mmb P  I16..4: 11.3% 29.1%  1.8%  P16..4: 28.6%  5.3%  2.5%  0.0%  0.0%    skip:21.5%\n",
            "\u001b[1;36m[libx264 @ 0x55e560250800] \u001b[0mmb B  I16..4:  3.2%  7.1%  0.7%  B16..8: 32.9%  5.5%  0.5%  direct: 7.0%  skip:43.2%  L0:51.3% L1:46.1% BI: 2.6%\n",
            "\u001b[1;36m[libx264 @ 0x55e560250800] \u001b[0m8x8 transform intra:67.4% inter:89.7%\n",
            "\u001b[1;36m[libx264 @ 0x55e560250800] \u001b[0mcoded y,uvDC,uvAC intra: 31.2% 37.5% 2.9% inter: 10.1% 19.1% 0.1%\n",
            "\u001b[1;36m[libx264 @ 0x55e560250800] \u001b[0mi16 v,h,dc,p: 25% 41%  8% 26%\n",
            "\u001b[1;36m[libx264 @ 0x55e560250800] \u001b[0mi8 v,h,dc,ddl,ddr,vr,hd,vl,hu: 22% 23% 27%  4%  6%  6%  5%  4%  4%\n",
            "\u001b[1;36m[libx264 @ 0x55e560250800] \u001b[0mi4 v,h,dc,ddl,ddr,vr,hd,vl,hu: 24% 25% 15%  4%  9%  7%  7%  5%  2%\n",
            "\u001b[1;36m[libx264 @ 0x55e560250800] \u001b[0mi8c dc,h,v,p: 64% 20% 13%  3%\n",
            "\u001b[1;36m[libx264 @ 0x55e560250800] \u001b[0mWeighted P-Frames: Y:0.0% UV:0.0%\n",
            "\u001b[1;36m[libx264 @ 0x55e560250800] \u001b[0mref P L0: 47.2%  7.6% 28.0% 17.2%\n",
            "\u001b[1;36m[libx264 @ 0x55e560250800] \u001b[0mref B L0: 75.7% 19.0%  5.3%\n",
            "\u001b[1;36m[libx264 @ 0x55e560250800] \u001b[0mref B L1: 93.8%  6.2%\n",
            "\u001b[1;36m[libx264 @ 0x55e560250800] \u001b[0mkb/s:4693.80\n",
            "\u001b[1;36m[aac @ 0x55e560251700] \u001b[0mQavg: 1059.356\n",
            "Loading YOLO model..\n",
            "Loading pose model from ./models/sppe/duc_se.pth\n",
            "100% 213/213 [00:24<00:00,  8.69it/s]\n",
            "===========================> Finish Model Running.\n",
            "===========================> Rendering remaining images in the queue...\n",
            "===========================> If this step takes too long, you can enable the --vis_fast flag to use fast rendering (real-time).\n",
            "ffmpeg version 3.4.8-0ubuntu0.2 Copyright (c) 2000-2020 the FFmpeg developers\n",
            "  built with gcc 7 (Ubuntu 7.5.0-3ubuntu1~18.04)\n",
            "  configuration: --prefix=/usr --extra-version=0ubuntu0.2 --toolchain=hardened --libdir=/usr/lib/x86_64-linux-gnu --incdir=/usr/include/x86_64-linux-gnu --enable-gpl --disable-stripping --enable-avresample --enable-avisynth --enable-gnutls --enable-ladspa --enable-libass --enable-libbluray --enable-libbs2b --enable-libcaca --enable-libcdio --enable-libflite --enable-libfontconfig --enable-libfreetype --enable-libfribidi --enable-libgme --enable-libgsm --enable-libmp3lame --enable-libmysofa --enable-libopenjpeg --enable-libopenmpt --enable-libopus --enable-libpulse --enable-librubberband --enable-librsvg --enable-libshine --enable-libsnappy --enable-libsoxr --enable-libspeex --enable-libssh --enable-libtheora --enable-libtwolame --enable-libvorbis --enable-libvpx --enable-libwavpack --enable-libwebp --enable-libx265 --enable-libxml2 --enable-libxvid --enable-libzmq --enable-libzvbi --enable-omx --enable-openal --enable-opengl --enable-sdl2 --enable-libdc1394 --enable-libdrm --enable-libiec61883 --enable-chromaprint --enable-frei0r --enable-libopencv --enable-libx264 --enable-shared\n",
            "  libavutil      55. 78.100 / 55. 78.100\n",
            "  libavcodec     57.107.100 / 57.107.100\n",
            "  libavformat    57. 83.100 / 57. 83.100\n",
            "  libavdevice    57. 10.100 / 57. 10.100\n",
            "  libavfilter     6.107.100 /  6.107.100\n",
            "  libavresample   3.  7.  0 /  3.  7.  0\n",
            "  libswscale      4.  8.100 /  4.  8.100\n",
            "  libswresample   2.  9.100 /  2.  9.100\n",
            "  libpostproc    54.  7.100 / 54.  7.100\n",
            "Input #0, avi, from 'AlphaPose_video.avi':\n",
            "  Metadata:\n",
            "    encoder         : Lavf58.35.100\n",
            "  Duration: 00:00:07.10, start: 0.000000, bitrate: 15893 kb/s\n",
            "    Stream #0:0: Video: mpeg4 (Simple Profile) (XVID / 0x44495658), yuv420p, 1080x1920 [SAR 1:1 DAR 9:16], 15950 kb/s, 30 fps, 30 tbr, 30 tbn, 30 tbc\n",
            "Stream mapping:\n",
            "  Stream #0:0 -> #0:0 (mpeg4 (native) -> h264 (libx264))\n",
            "Press [q] to stop, [?] for help\n",
            "\u001b[1;36m[libx264 @ 0x55716f5ffe00] \u001b[0musing SAR=1/1\n",
            "\u001b[1;36m[libx264 @ 0x55716f5ffe00] \u001b[0musing cpu capabilities: MMX2 SSE2Fast SSSE3 SSE4.2 AVX FMA3 BMI2 AVX2\n",
            "\u001b[1;36m[libx264 @ 0x55716f5ffe00] \u001b[0mprofile High, level 4.0\n",
            "\u001b[1;36m[libx264 @ 0x55716f5ffe00] \u001b[0m264 - core 152 r2854 e9a5903 - H.264/MPEG-4 AVC codec - Copyleft 2003-2017 - http://www.videolan.org/x264.html - options: cabac=1 ref=3 deblock=1:0:0 analyse=0x3:0x113 me=hex subme=7 psy=1 psy_rd=1.00:0.00 mixed_ref=1 me_range=16 chroma_me=1 trellis=1 8x8dct=1 cqm=0 deadzone=21,11 fast_pskip=1 chroma_qp_offset=-2 threads=3 lookahead_threads=1 sliced_threads=0 nr=0 decimate=1 interlaced=0 bluray_compat=0 constrained_intra=0 bframes=3 b_pyramid=2 b_adapt=1 b_bias=0 direct=1 weightb=1 open_gop=0 weightp=2 keyint=250 keyint_min=25 scenecut=40 intra_refresh=0 rc_lookahead=40 rc=crf mbtree=1 crf=23.0 qcomp=0.60 qpmin=0 qpmax=69 qpstep=4 ip_ratio=1.40 aq=1:1.00\n",
            "Output #0, mp4, to 'AlphaPose_video.mp4':\n",
            "  Metadata:\n",
            "    encoder         : Lavf57.83.100\n",
            "    Stream #0:0: Video: h264 (libx264) (avc1 / 0x31637661), yuv420p, 1080x1920 [SAR 1:1 DAR 9:16], q=-1--1, 30 fps, 15360 tbn, 30 tbc\n",
            "    Metadata:\n",
            "      encoder         : Lavc57.107.100 libx264\n",
            "    Side data:\n",
            "      cpb: bitrate max/min/avg: 0/0/0 buffer size: 0 vbv_delay: -1\n",
            "frame=  213 fps=6.8 q=-1.0 Lsize=    4750kB time=00:00:07.00 bitrate=5558.8kbits/s speed=0.225x    \n",
            "video:4747kB audio:0kB subtitle:0kB other streams:0kB global headers:0kB muxing overhead: 0.063898%\n",
            "\u001b[1;36m[libx264 @ 0x55716f5ffe00] \u001b[0mframe I:2     Avg QP:20.24  size: 44125\n",
            "\u001b[1;36m[libx264 @ 0x55716f5ffe00] \u001b[0mframe P:108   Avg QP:22.43  size: 26611\n",
            "\u001b[1;36m[libx264 @ 0x55716f5ffe00] \u001b[0mframe B:103   Avg QP:23.73  size: 18427\n",
            "\u001b[1;36m[libx264 @ 0x55716f5ffe00] \u001b[0mconsecutive B-frames: 20.2% 35.7% 31.0% 13.1%\n",
            "\u001b[1;36m[libx264 @ 0x55716f5ffe00] \u001b[0mmb I  I16..4: 33.7% 63.8%  2.5%\n",
            "\u001b[1;36m[libx264 @ 0x55716f5ffe00] \u001b[0mmb P  I16..4:  8.5% 28.6%  1.6%  P16..4: 26.0%  5.1%  2.2%  0.0%  0.0%    skip:28.0%\n",
            "\u001b[1;36m[libx264 @ 0x55716f5ffe00] \u001b[0mmb B  I16..4:  3.4%  9.8%  0.5%  B16..8: 33.3%  6.0%  0.9%  direct: 4.1%  skip:42.0%  L0:57.7% L1:39.6% BI: 2.7%\n",
            "\u001b[1;36m[libx264 @ 0x55716f5ffe00] \u001b[0m8x8 transform intra:73.0% inter:85.9%\n",
            "\u001b[1;36m[libx264 @ 0x55716f5ffe00] \u001b[0mcoded y,uvDC,uvAC intra: 32.4% 40.2% 6.1% inter: 9.0% 13.0% 0.9%\n",
            "\u001b[1;36m[libx264 @ 0x55716f5ffe00] \u001b[0mi16 v,h,dc,p: 31% 42% 12% 16%\n",
            "\u001b[1;36m[libx264 @ 0x55716f5ffe00] \u001b[0mi8 v,h,dc,ddl,ddr,vr,hd,vl,hu: 24% 28% 32%  2%  3%  4%  3%  3%  2%\n",
            "\u001b[1;36m[libx264 @ 0x55716f5ffe00] \u001b[0mi4 v,h,dc,ddl,ddr,vr,hd,vl,hu: 39% 17% 14%  4%  7%  8%  4%  5%  2%\n",
            "\u001b[1;36m[libx264 @ 0x55716f5ffe00] \u001b[0mi8c dc,h,v,p: 53% 23% 21%  2%\n",
            "\u001b[1;36m[libx264 @ 0x55716f5ffe00] \u001b[0mWeighted P-Frames: Y:0.0% UV:0.0%\n",
            "\u001b[1;36m[libx264 @ 0x55716f5ffe00] \u001b[0mref P L0: 58.2%  7.7% 22.3% 11.8%\n",
            "\u001b[1;36m[libx264 @ 0x55716f5ffe00] \u001b[0mref B L0: 76.9% 19.7%  3.4%\n",
            "\u001b[1;36m[libx264 @ 0x55716f5ffe00] \u001b[0mref B L1: 98.2%  1.8%\n",
            "\u001b[1;36m[libx264 @ 0x55716f5ffe00] \u001b[0mkb/s:5476.28\n"
          ],
          "name": "stdout"
        }
      ]
    }
  ]
}